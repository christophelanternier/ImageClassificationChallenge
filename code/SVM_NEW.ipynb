{
 "cells": [
  {
   "cell_type": "code",
   "execution_count": 1,
   "metadata": {
    "collapsed": true,
    "deletable": true,
    "editable": true
   },
   "outputs": [],
   "source": [
    "%matplotlib inline"
   ]
  },
  {
   "cell_type": "code",
   "execution_count": 1,
   "metadata": {
    "collapsed": true,
    "deletable": true,
    "editable": true
   },
   "outputs": [],
   "source": [
    "import pandas as pd\n",
    "import matplotlib.pyplot as plt\n",
    "import matplotlib.image as mpimg\n",
    "import numpy as np\n",
    "from numpy import genfromtxt\n",
    "import pywt\n",
    "from datetime import time, datetime, timedelta\n",
    "import random\n",
    "import itertools\n",
    "import io\n",
    "import json\n",
    "import cvxopt\n",
    "\n",
    "from classification import *\n",
    "from kernel import *"
   ]
  },
  {
   "cell_type": "code",
   "execution_count": 2,
   "metadata": {
    "collapsed": true,
    "deletable": true,
    "editable": true
   },
   "outputs": [],
   "source": [
    "Xtr = genfromtxt('../data/Xtr.csv', delimiter=',')\n",
    "Ytr = genfromtxt('../data/Ytr.csv', delimiter=',')\n",
    "Xte = genfromtxt('../data/Xte.csv', delimiter=',')\n",
    "\n",
    "Xtr = np.delete(Xtr, 3072, axis=1)\n",
    "Xte = np.delete(Xte, 3072, axis=1)\n",
    "Ytr = Ytr[1:,1]\n",
    "N = len(Ytr)"
   ]
  },
  {
   "cell_type": "markdown",
   "metadata": {
    "deletable": true,
    "editable": true
   },
   "source": [
    "## Test new SVM"
   ]
  },
  {
   "cell_type": "code",
   "execution_count": null,
   "metadata": {
    "collapsed": false,
    "deletable": true,
    "editable": true,
    "scrolled": true
   },
   "outputs": [],
   "source": [
    "#features_functions = [fourier_modulus_1D_kernel, fourier_modulus_2D_kernel, fourier_phase_2D_kernel, wavelet_transform]\n",
    "#lambdas = [10, 1, 0.1, 0.01]\n",
    "#features_functions = [fourier_modulus_2D_kernel]\n",
    "features_functions = [scattering_transform]\n",
    "lambdas = [0.01]\n",
    "submission = True\n",
    "\n",
    "results_cross_val = {}\n",
    "\n",
    "for feature_function in features_functions:\n",
    "    Xtr_t = feature_function(Xtr)\n",
    "    for _lambda in lambdas:\n",
    "        results_cross_val[(feature_function, _lambda)] = []\n",
    "        for i in range(1):\n",
    "            \n",
    "            if submission:\n",
    "                Xte_t = feature_function(Xte)\n",
    "                features = Xtr_t.T\n",
    "                labels = Ytr\n",
    "                X = Xte_t.T\n",
    "            else:\n",
    "                mask_test = random.sample(range(0, 5000), 1000)\n",
    "                mask_train =  [i for i in range(5000) if i not in mask_test]\n",
    "\n",
    "                Xtr_train = Xtr_t[mask_train, :].T\n",
    "                Xtr_test = Xtr_t[mask_test, :].T\n",
    "                Ytr_train = Ytr[mask_train]\n",
    "                Ytr_test = Ytr[mask_test]\n",
    "                \n",
    "                features = Xtr_train\n",
    "                labels = Ytr_train\n",
    "                X = Xtr_test\n",
    "\n",
    "            t1 = datetime.now()\n",
    "            alphas, bias = one_versus_all_SVM(features, labels, _lambda=_lambda)\n",
    "            print 'model fitted'\n",
    "            prediction = predict_SVM(alphas, bias, features, X)\n",
    "            t2 = datetime.now()\n",
    "            print t2-t1\n",
    "            \n",
    "            if submission == False:\n",
    "                well_classified = 0\n",
    "                for i in range(len(prediction)):\n",
    "                    if prediction[i] == Ytr_test[i]:\n",
    "                         well_classified+=1\n",
    "                print 'lambda = ', _lambda, ', good classification rate = ', float(well_classified)/len(Ytr_test)\n",
    "            else:\n",
    "                results_cross_val[(feature_function, _lambda)].append(well_classified)"
   ]
  },
  {
   "cell_type": "code",
   "execution_count": null,
   "metadata": {
    "collapsed": false,
    "deletable": true,
    "editable": true
   },
   "outputs": [],
   "source": [
    "DF = pd.DataFrame(data=pd.Series(prediction), columns=['Prediction'])\n",
    "DF.index += 1\n",
    "DF.to_csv('../data/'+'scattering_transform_gabor.csv', index=True, index_label='Id', sep=',')"
   ]
  },
  {
   "cell_type": "markdown",
   "metadata": {
    "deletable": true,
    "editable": true
   },
   "source": [
    "## Toy data for tests"
   ]
  },
  {
   "cell_type": "code",
   "execution_count": null,
   "metadata": {
    "collapsed": true,
    "deletable": true,
    "editable": true
   },
   "outputs": [],
   "source": [
    "n_samples = 150\n",
    "mean_1 = [0, -3]\n",
    "cov = [[3, 0], [0, 3]]\n",
    "X_1 = np.random.multivariate_normal(mean_1, cov, n_samples).T\n",
    "mean_2 = [3, 3]\n",
    "X_2 = np.random.multivariate_normal(mean_2, cov, n_samples).T\n",
    "mean_3 = [-3, 3]\n",
    "X_3 = np.random.multivariate_normal(mean_3, cov, n_samples).T\n",
    "X = np.concatenate((X_1, X_2, X_3), axis = 1)\n",
    "\n",
    "y = np.concatenate((np.zeros((1,n_samples)), np.ones((1, n_samples)), 2*np.ones((1,n_samples))), axis=1)\n",
    "y = y[0,:]\n",
    "Xtr_t = X.T\n",
    "Ytr = y\n",
    "\n",
    "mask_test = range(0,450, 5)\n",
    "mask_train = [i for i in range(450) if i not in mask_test]\n",
    "\n",
    "Xtr_train = Xtr_t[mask_train, :].T\n",
    "Xtr_test = Xtr_t[mask_test, :].T\n",
    "Ytr_train = Ytr[mask_train]\n",
    "Ytr_test = Ytr[mask_test]"
   ]
  }
 ],
 "metadata": {
  "kernelspec": {
   "display_name": "Python 2",
   "language": "python",
   "name": "python2"
  },
  "language_info": {
   "codemirror_mode": {
    "name": "ipython",
    "version": 2
   },
   "file_extension": ".py",
   "mimetype": "text/x-python",
   "name": "python",
   "nbconvert_exporter": "python",
   "pygments_lexer": "ipython2",
   "version": "2.7.11"
  }
 },
 "nbformat": 4,
 "nbformat_minor": 0
}
